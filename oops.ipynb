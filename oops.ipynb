{
  "nbformat": 4,
  "nbformat_minor": 0,
  "metadata": {
    "colab": {
      "provenance": []
    },
    "kernelspec": {
      "name": "python3",
      "display_name": "Python 3"
    },
    "language_info": {
      "name": "python"
    }
  },
  "cells": [
    {
      "cell_type": "markdown",
      "source": [
        "Python OOPs Questions"
      ],
      "metadata": {
        "id": "LYwcCPDWnC5o"
      }
    },
    {
      "cell_type": "markdown",
      "source": [
        "1.What is Object-Oriented Programming (OOP)?\n",
        "\n",
        "Object-Oriented Programming (OOP) is a programming paradigm that centers around the concept of \"objects,\" which are self-contained entities that combine data (attributes) and methods (functions) that operate on that data. OOP aims to model real-world entities and their interactions, making code more modular, reusable, and easier to understand, especially for complex software projects."
      ],
      "metadata": {
        "id": "Ws7TkrtOnFuR"
      }
    },
    {
      "cell_type": "markdown",
      "source": [
        "2.What is a class in OOP?\n",
        "\n",
        "In Object-Oriented Programming (OOP), a class is a blueprint or template for creating objects. It defines the structure and behavior of objects, specifying the data (attributes) and functions (methods) that objects of that class will possess."
      ],
      "metadata": {
        "id": "ACpebwiwnWAn"
      }
    },
    {
      "cell_type": "markdown",
      "source": [
        "3.What is an object in OOP?\n",
        "\n",
        "In Object-Oriented Programming (OOP), an object is a fundamental, self-contained entity that encapsulates data (attributes) and methods (functions) that operate on that data. It's an instance of a class, representing a specific realization of a more general concept. Think of it as a building block that combines both properties (what it is) and behaviors (what it can do).\n"
      ],
      "metadata": {
        "id": "U6OWM0Fgnfxg"
      }
    },
    {
      "cell_type": "markdown",
      "source": [
        "4.What is the difference between abstraction and encapsulation?\n",
        "\n",
        "Abstraction focuses on hiding unnecessary implementation details and showing only the essential features of an object, while encapsulation focuses on bundling data and methods that operate on that data within a single unit (like a class) and controlling access to it. In simpler terms, abstraction deals with what an object does, and encapsulation deals with how it does it\n"
      ],
      "metadata": {
        "id": "M1znnh7snrtn"
      }
    },
    {
      "cell_type": "markdown",
      "source": [
        "5.What are dunder methods in Python?\n",
        "\n",
        "Dunder methods, also known as magic methods or special methods, are predefined methods in Python that are distinguished by having double underscores at both the beginning and end of their names (e.g., __init__, __str__, __add__). The term \"dunder\" is a contraction of \"double underscore.\"\n",
        "\n"
      ],
      "metadata": {
        "id": "q09eOHBfn6E3"
      }
    },
    {
      "cell_type": "markdown",
      "source": [
        "6.Explain the concept of inheritance in OOP?\n",
        "\n",
        "In object-oriented programming (OOP), inheritance is a mechanism that allows a new class (the child class or subclass) to inherit properties and behaviors (methods) from an existing class (the parent class or superclass). This promotes code reusability and establishes an \"is-a\" relationship between the classes\n"
      ],
      "metadata": {
        "id": "WLMfU9daoCMX"
      }
    },
    {
      "cell_type": "markdown",
      "source": [
        "7.What is polymorphism in OOP?\n",
        "\n",
        "Polymorphism, a core concept in object-oriented programming (OOP), allows objects of different classes to be treated as objects of a common superclass. It essentially means \"many forms\" and enables a single interface or method to behave differently depending on the object it's acting upon. This is achieved by allowing different classes to implement the same method in their own way, leading to code flexibility and reusability.\n"
      ],
      "metadata": {
        "id": "04PLhnztoGtA"
      }
    },
    {
      "cell_type": "markdown",
      "source": [
        "8.How is encapsulation achieved in Python?\n",
        "\n",
        "Encapsulation in Python is achieved by bundling data (attributes) and methods that operate on that data within a single unit, which is a class. This practice aims to restrict direct access to the internal state of an object and instead provide a controlled interface for interaction.\n"
      ],
      "metadata": {
        "id": "_nQCjgI9oRbA"
      }
    },
    {
      "cell_type": "markdown",
      "source": [
        "9.What is a constructor in Python?\n",
        "\n",
        "In Python, a constructor is a special method used to initialize new objects of a class. It is automatically invoked when an object of the class is created\n"
      ],
      "metadata": {
        "id": "zQIrZ6wJoZ-H"
      }
    },
    {
      "cell_type": "markdown",
      "source": [
        "10.What are class and static methods in Python?\n",
        "\n",
        "In Python, both class methods and static methods are defined within a class but differ in their access to class and instance data and their primary use cases.\n",
        "\n",
        "Class Methods:\n",
        "\n",
        "Definition:\n",
        "A class method is a method that receives the class itself as its first argument, conventionally named cls. It is defined using the @classmethod decorator.\n",
        "\n",
        "Static Methods:\n",
        "\n",
        "Definition:\n",
        "A static method is a method defined within a class that does not receive any implicit first argument (neither self for instance nor cls for class). It is defined using the @staticmethod decorator."
      ],
      "metadata": {
        "id": "fqKLhK2goik-"
      }
    },
    {
      "cell_type": "markdown",
      "source": [
        "11.What is method overloading in Python?\n",
        "\n",
        "Method overloading in Python refers to the concept where a single method name can be used to perform different actions based on the number or type of arguments passed to it. Unlike some other object-oriented languages (like Java or C++), Python does not support true method overloading in the sense of having multiple methods with the same name but different formal parameter lists within a single class.\n"
      ],
      "metadata": {
        "id": "_NJaJfDto2j2"
      }
    },
    {
      "cell_type": "markdown",
      "source": [
        "12.What is method overriding in OOP?\n",
        "\n",
        "Method overriding in object-oriented programming (OOP) is a feature that allows a subclass to provide a specific implementation of a method that is already defined in its parent class. This allows the subclass to customize or extend the behavior of the inherited method while maintaining the same method signature (name and parameters).\n"
      ],
      "metadata": {
        "id": "tWlFDpucpEy-"
      }
    },
    {
      "cell_type": "markdown",
      "source": [
        "13.What is a property decorator in Python?\n",
        "\n",
        "A property decorator in Python, specifically @property, is a built-in decorator used to define managed attributes within a class. It allows you to treat a method as if it were an attribute, providing a clean and Pythonic way to implement getters, setters, and deleters for class attributes without directly exposing the internal representation of the data.\n"
      ],
      "metadata": {
        "id": "JkT6YF7gpOR2"
      }
    },
    {
      "cell_type": "markdown",
      "source": [
        "14.Why is polymorphism important in OOP?\n",
        "\n",
        "Polymorphism is crucial in object-oriented programming (OOP) because it enables code flexibility, reusability, and maintainability. It allows objects of different types to be treated as objects of a common type, facilitating the creation of more adaptable and extensible software systems. Polymorphism enhances code organization, reduces redundancy, and simplifies the addition of new functionalities.\n"
      ],
      "metadata": {
        "id": "LWOCR-uFpWXu"
      }
    },
    {
      "cell_type": "markdown",
      "source": [
        "15.What is an abstract class in Python?\n",
        "\n",
        "An abstract class in Python is a class that serves as a blueprint or template for other classes. It cannot be instantiated directly, meaning you cannot create objects of an abstract class itself. Instead, it is designed to be subclassed, and its primary purpose is to define a common interface and enforce specific methods that its concrete (non-abstract) subclasses must implement.\n"
      ],
      "metadata": {
        "id": "9BGi-aN-phOe"
      }
    },
    {
      "cell_type": "markdown",
      "source": [
        "16.What are the advantages of OOP?\n",
        "\n",
        "Object-Oriented Programming (OOP) offers several advantages, primarily focusing on modularity, reusability, and maintainability. These benefits are achieved through key concepts like encapsulation, inheritance, and polymorphism.\n",
        "\n",
        "1. Modularity and Organization:\n",
        "\n",
        "\n",
        "Encapsulation:\n",
        "OOP allows you to group related data (attributes) and the functions that operate on that data (methods) into a single unit called a class. This creates self-contained, modular components, making it easier to understand, debug, and maintain the code.\n",
        "\n",
        "Modularity:\n",
        "\n",
        "By breaking down complex problems into smaller, manageable objects, OOP simplifies development and makes it easier to manage large projects.\n",
        "Improved Code Readability:\n",
        "OOP promotes better code structure, making it easier to read and understand the logic behind the code.\n"
      ],
      "metadata": {
        "id": "MF4QjEPLpoy2"
      }
    },
    {
      "cell_type": "markdown",
      "source": [
        "17.What is the difference between a class variable and an instance variable?\n",
        "\n",
        "Class variables and instance variables differ in their scope and how they are stored. Class variables are associated with the class itself and are shared by all instances of that class, while instance variables are specific to each individual object created from the class.\n"
      ],
      "metadata": {
        "id": "OcJGFLsnqMEu"
      }
    },
    {
      "cell_type": "markdown",
      "source": [
        "18.What is multiple inheritance in Python?\n",
        "\n",
        "Multiple inheritance in Python is a feature that allows a class to inherit attributes and methods from more than one parent class. This means a single derived class can combine the functionalities and characteristics of multiple base classes.\n"
      ],
      "metadata": {
        "id": "Ys3uf5dRqWU-"
      }
    },
    {
      "cell_type": "markdown",
      "source": [
        "19.Explain the purpose of ‘’__str__’ and ‘__repr__’ ‘ methods in Python.\n",
        "\n",
        "The __str__ and __repr__ methods in Python are special methods (also known as \"dunder methods\" or \"magic methods\") that define how an object should be represented as a string. They serve different purposes and are intended for different audiences.\n",
        "\n"
      ],
      "metadata": {
        "id": "tnhlR-MKqgaN"
      }
    },
    {
      "cell_type": "markdown",
      "source": [
        "20.What is the significance of the ‘super()’ function in Python?\n",
        "\n",
        "The super() function in Python holds significant importance in the context of object-oriented programming, particularly concerning inheritance. Its primary significance lies in enabling proper method resolution and initialization within class hierarchies\n"
      ],
      "metadata": {
        "id": "-8i-IiYsqtSd"
      }
    },
    {
      "cell_type": "markdown",
      "source": [
        "21.What is the significance of the __del__ method in Python?\n",
        "\n",
        "The __del__ method in Python, often referred to as a \"finalizer\" or \"destructor,\" is a special method invoked by the Python interpreter when an object is about to be garbage collected. Its primary significance lies in allowing objects to perform cleanup operations before they are removed from memory.\n"
      ],
      "metadata": {
        "id": "thWJbusIraT8"
      }
    },
    {
      "cell_type": "markdown",
      "source": [
        "22.What is the difference between @staticmethod and @classmethod in Python?\n",
        "\n",
        "The primary difference between @staticmethod and @classmethod in Python lies in their access to the class and instance.\n",
        "\n",
        "@classmethod-\n",
        "\n",
        "Takes the class itself as the first argument, conventionally named cls.\n",
        "Can access and modify class-level attributes.\n",
        "Cannot directly access or modify instance-specific attributes.\n",
        "Commonly used for factory methods, alternative constructors, or operations that affect the class as a whole.\n",
        "\n",
        "@staticmethod-\n",
        "\n",
        "Does not take any implicit first argument (neither self nor cls).\n",
        "Cannot access or modify instance-specific attributes or class-level attributes.\n",
        "Behaves like a regular function placed within the class's namespace for organizational purposes, without any dependency on the class or its instances.\n",
        "Commonly used for utility functions that are logically related to the class but do not require any class or instance state."
      ],
      "metadata": {
        "id": "q3xvPBHzrjp4"
      }
    },
    {
      "cell_type": "markdown",
      "source": [
        "23.How does polymorphism work in Python with inheritance?\n",
        "\n",
        "Polymorphism in Python, particularly in conjunction with inheritance, allows objects of different classes to be treated as objects of a common type through a shared interface. This is primarily achieved through method overriding.\n",
        "\n",
        "Here's how it works:\n",
        "\n",
        "Inheritance Hierarchy:\n",
        "\n",
        "A base class (superclass) defines a method. Subclasses inherit this method.\n",
        "Method Overriding:\n",
        "Subclasses can provide their own specific implementation for the inherited method, effectively \"overriding\" the base class's version. The method in the subclass must have the same name as the method in the base class.\n",
        "\n",
        "Dynamic Binding (Runtime Polymorphism):\n",
        "\n",
        "When a method is called on an object, Python determines which specific implementation of that method to execute at runtime, based on the actual type of the object, not the type of the variable holding the reference.\n"
      ],
      "metadata": {
        "id": "wXkW9WOSr6yE"
      }
    },
    {
      "cell_type": "markdown",
      "source": [
        "24.What is method chaining in Python OOP?\n",
        "\n",
        "Method chaining in Python OOP is a programming technique that allows for the sequential invocation of multiple methods on the same object in a single line of code. This is achieved by having each method return the object itself (or a modified version of it) after performing its operation.\n",
        "\n"
      ],
      "metadata": {
        "id": "Y3Hdrw-_sN69"
      }
    },
    {
      "cell_type": "markdown",
      "source": [
        "25.What is the purpose of the __call__ method in Python?\n",
        "\n",
        "The purpose of the __call__ method in Python is to make instances of a class callable, meaning they can be invoked like functions. When an object of a class that defines __call__ is called using parentheses (e.g., obj(arg1, arg2)), the __call__ method of that object is automatically executed.\n",
        "\n"
      ],
      "metadata": {
        "id": "qzYI_mensamu"
      }
    },
    {
      "cell_type": "markdown",
      "source": [
        "Practical Questions"
      ],
      "metadata": {
        "id": "mub2OUd-smdK"
      }
    },
    {
      "cell_type": "markdown",
      "source": [
        "1.Create a parent class Animal with a method speak() that prints a generic message. Create a child class Dog that overrides the speak() method to print \"Bark!\"\n"
      ],
      "metadata": {
        "id": "Md-xVpbuspwG"
      }
    },
    {
      "cell_type": "code",
      "source": [
        "class Animal:\n",
        "  def speak(self):\n",
        "    print(\"The animal makes a sound.\")  # Generic message.\n",
        "\n",
        "class Dog(Animal):  # Dog inherits from Animal.\n",
        "  def speak(self):  # Overriding the speak method.\n",
        "    print(\"Woof!\") # Custom message for Dog.\n",
        "\n",
        "# Example usage:\n",
        "generic_animal = Animal()\n",
        "generic_animal.speak()  # Output: The animal makes a sound.\n",
        "\n",
        "dog = Dog()\n",
        "dog.speak()  # Output: Woof!"
      ],
      "metadata": {
        "colab": {
          "base_uri": "https://localhost:8080/"
        },
        "id": "SGSogFe3stuP",
        "outputId": "70ad1391-83ad-4a84-f21f-daad1cb1b7f7"
      },
      "execution_count": 1,
      "outputs": [
        {
          "output_type": "stream",
          "name": "stdout",
          "text": [
            "The animal makes a sound.\n",
            "Woof!\n"
          ]
        }
      ]
    },
    {
      "cell_type": "markdown",
      "source": [
        "2. Write a program to create an abstract class Shape with a method area(). Derive classes Circle and Rectangle from it and implement the area() method in both.\n"
      ],
      "metadata": {
        "id": "2CkE5hUzs4tD"
      }
    },
    {
      "cell_type": "code",
      "source": [
        "import abc\n",
        "import math\n",
        "\n",
        "class Shape(abc.ABC):\n",
        "    @abc.abstractmethod\n",
        "    def area(self):\n",
        "        \"\"\"Abstract method to calculate and return the area.\"\"\"\n",
        "        pass\n",
        "\n",
        "class Circle(Shape):\n",
        "    def __init__(self, radius):\n",
        "        self.radius = radius\n",
        "\n",
        "    def area(self):\n",
        "        return math.pi * self.radius**2\n",
        "\n",
        "class Rectangle(Shape):\n",
        "    def __init__(self, width, height):\n",
        "        self.width = width\n",
        "        self.height = height\n",
        "\n",
        "    def area(self):\n",
        "        return self.width * self.height\n",
        "\n",
        "# Example usage:\n",
        "circle = Circle(5)\n",
        "rectangle = Rectangle(4, 6)\n",
        "\n",
        "print(f\"Circle area: {circle.area()}\")\n",
        "print(f\"Rectangle area: {rectangle.area()}\")"
      ],
      "metadata": {
        "colab": {
          "base_uri": "https://localhost:8080/"
        },
        "id": "UD_hj1W0vByz",
        "outputId": "ae92ff08-7338-4f17-b111-a710e3ffff5d"
      },
      "execution_count": 4,
      "outputs": [
        {
          "output_type": "stream",
          "name": "stdout",
          "text": [
            "Circle area: 78.53981633974483\n",
            "Rectangle area: 24\n"
          ]
        }
      ]
    },
    {
      "cell_type": "markdown",
      "source": [
        "3. Implement a multi-level inheritance scenario where a class Vehicle has an attribute type. Derive a class Car and further derive a class ElectricCar that adds a battery attribute.\n"
      ],
      "metadata": {
        "id": "jDo41XIzvG-L"
      }
    },
    {
      "cell_type": "code",
      "source": [
        "class Vehicle:\n",
        "    def __init__(self, type):\n",
        "        self.type = type\n",
        "\n",
        "    def display_type(self):\n",
        "        print(f\"Vehicle Type: {self.type}\")\n",
        "\n",
        "\n",
        "class Car(Vehicle):\n",
        "    def __init__(self, type, model):\n",
        "        super().__init__(type)\n",
        "        self.model = model\n",
        "\n",
        "    def display_car_info(self):\n",
        "        print(f\"Car Type: {self.type}, Model: {self.model}\")\n",
        "\n",
        "\n",
        "class ElectricCar(Car):\n",
        "    def __init__(self, type, model, battery):\n",
        "        super().__init__(type, model)\n",
        "        self.battery = battery\n",
        "\n",
        "    def display_electric_car_info(self):\n",
        "        print(f\"Electric Car Type: {self.type}, Model: {self.model}, Battery: {self.battery}\")\n",
        "\n",
        "# Example Usage\n",
        "my_vehicle = Vehicle(\"Generic\")\n",
        "my_vehicle.display_type()\n",
        "\n",
        "my_car = Car(\"Sedan\", \"Toyota Camry\")\n",
        "my_car.display_type()\n",
        "my_car.display_car_info()\n",
        "\n",
        "my_electric_car = ElectricCar(\"Hatchback\", \"Tesla Model 3\", \"50 kWh\")\n",
        "my_electric_car.display_type()\n",
        "my_electric_car.display_car_info()\n",
        "my_electric_car.display_electric_car_info()"
      ],
      "metadata": {
        "colab": {
          "base_uri": "https://localhost:8080/"
        },
        "id": "GsKUgNm4vLfy",
        "outputId": "1b9e8c37-79b0-4d02-83c1-0c01ef632a83"
      },
      "execution_count": 5,
      "outputs": [
        {
          "output_type": "stream",
          "name": "stdout",
          "text": [
            "Vehicle Type: Generic\n",
            "Vehicle Type: Sedan\n",
            "Car Type: Sedan, Model: Toyota Camry\n",
            "Vehicle Type: Hatchback\n",
            "Car Type: Hatchback, Model: Tesla Model 3\n",
            "Electric Car Type: Hatchback, Model: Tesla Model 3, Battery: 50 kWh\n"
          ]
        }
      ]
    },
    {
      "cell_type": "markdown",
      "source": [
        "4. Demonstrate polymorphism by creating a base class Bird with a method fly(). Create two derived classes Sparrow and Penguin that override the fly() method.\n"
      ],
      "metadata": {
        "id": "ITaSepnIvPvq"
      }
    },
    {
      "cell_type": "code",
      "source": [
        "class Bird:\n",
        "    def fly(self):\n",
        "        print(\"The bird is flying.\")\n",
        "\n",
        "class Sparrow(Bird):\n",
        "    def fly(self):\n",
        "        print(\"The sparrow is soaring through the sky.\")\n",
        "\n",
        "class Penguin(Bird):\n",
        "    def fly(self):\n",
        "        print(\"The penguin cannot fly, it swims.\")\n",
        "\n",
        "bird = Bird()\n",
        "sparrow = Sparrow()\n",
        "penguin = Penguin()\n",
        "\n",
        "bird.fly()\n",
        "sparrow.fly()\n",
        "penguin.fly()"
      ],
      "metadata": {
        "colab": {
          "base_uri": "https://localhost:8080/"
        },
        "id": "D1NfMI6AvUXC",
        "outputId": "dfaba1bf-466f-40fe-def4-2fd3dd045778"
      },
      "execution_count": 6,
      "outputs": [
        {
          "output_type": "stream",
          "name": "stdout",
          "text": [
            "The bird is flying.\n",
            "The sparrow is soaring through the sky.\n",
            "The penguin cannot fly, it swims.\n"
          ]
        }
      ]
    },
    {
      "cell_type": "markdown",
      "source": [
        "5. Write a program to demonstrate encapsulation by creating a class BankAccount with private attributes balance and methods to deposit, withdraw, and check balance.\n"
      ],
      "metadata": {
        "id": "5Z87JTshvZfb"
      }
    },
    {
      "cell_type": "code",
      "source": [
        "class BankAccount:\n",
        "    \"\"\"\n",
        "    A class to represent a bank account with encapsulation.\n",
        "    \"\"\"\n",
        "    def __init__(self, initial_balance=0):\n",
        "        \"\"\"\n",
        "        Initializes the BankAccount with a private balance.\n",
        "        \"\"\"\n",
        "        self.__balance = initial_balance  # Private attribute\n",
        "\n",
        "    def deposit(self, amount):\n",
        "        \"\"\"\n",
        "        Deposits money into the account.\n",
        "        \"\"\"\n",
        "        if amount > 0:\n",
        "            self.__balance += amount\n",
        "            print(f\"Deposited ${amount}. New balance: ${self.__balance}\")\n",
        "        else:\n",
        "            print(\"Invalid deposit amount. Please enter a positive value.\")\n",
        "\n",
        "    def withdraw(self, amount):\n",
        "        \"\"\"\n",
        "        Withdraws money from the account.\n",
        "        \"\"\"\n",
        "        if 0 < amount <= self.__balance:\n",
        "            self.__balance -= amount\n",
        "            print(f\"Withdrawn ${amount}. New balance: ${self.__balance}\")\n",
        "        else:\n",
        "            print(\"Insufficient balance or invalid withdrawal amount.\")\n",
        "\n",
        "    def get_balance(self):\n",
        "        \"\"\"\n",
        "        Returns the current balance.\n",
        "        \"\"\"\n",
        "        return self.__balance\n",
        "\n",
        "    def __show_balance(self):\n",
        "      \"\"\"\n",
        "      Private method to show the balance.  Demonstrates encapsulation.\n",
        "      \"\"\"\n",
        "      print(f\"Current balance: ${self.__balance}\")\n",
        "\n",
        "\n",
        "# Example usage\n",
        "if __name__ == \"__main__\":\n",
        "    account = BankAccount(100)\n",
        "    account.deposit(50)\n",
        "    account.withdraw(25)\n",
        "    print(f\"Current balance: ${account.get_balance()}\") # Accessing through getter method\n",
        "    # account.__show_balance() # This will raise an error because it's a private method"
      ],
      "metadata": {
        "colab": {
          "base_uri": "https://localhost:8080/"
        },
        "id": "NaH2pfN2vefC",
        "outputId": "bd810ab4-5a06-4315-f95b-f5290e26a9b7"
      },
      "execution_count": 7,
      "outputs": [
        {
          "output_type": "stream",
          "name": "stdout",
          "text": [
            "Deposited $50. New balance: $150\n",
            "Withdrawn $25. New balance: $125\n",
            "Current balance: $125\n"
          ]
        }
      ]
    },
    {
      "cell_type": "markdown",
      "source": [
        "6. Demonstrate runtime polymorphism using a method play() in a base class Instrument. Derive classes Guitar and Piano that implement their own version of play.\n"
      ],
      "metadata": {
        "id": "Hx-SjxGqvpY6"
      }
    },
    {
      "cell_type": "code",
      "metadata": {
        "colab": {
          "base_uri": "https://localhost:8080/"
        },
        "id": "fbcbb014",
        "outputId": "7080eb86-c644-4a50-c58d-965f4a1a648b"
      },
      "source": [
        "class Instrument:\n",
        "    def play(self):\n",
        "        print(\"Playing instrument...\")\n",
        "\n",
        "class Guitar(Instrument):\n",
        "    def play(self):\n",
        "        print(\"Playing guitar...\")\n",
        "\n",
        "class Piano(Instrument):\n",
        "    def play(self):\n",
        "        print(\"Playing piano...\")\n",
        "\n",
        "# Demonstrate runtime polymorphism\n",
        "my_instrument = Guitar()\n",
        "my_instrument.play()  # Calls Guitar's play() method\n",
        "\n",
        "my_instrument = Piano()\n",
        "my_instrument.play()  # Calls Piano's play() method"
      ],
      "execution_count": 11,
      "outputs": [
        {
          "output_type": "stream",
          "name": "stdout",
          "text": [
            "Playing guitar...\n",
            "Playing piano...\n"
          ]
        }
      ]
    },
    {
      "cell_type": "markdown",
      "source": [
        "7. Create a class MathOperations with a class method add_numbers() to add two numbers and a static method subtract_numbers() to subtract two numbers.\n"
      ],
      "metadata": {
        "id": "bt6xC3hRwGEy"
      }
    },
    {
      "cell_type": "code",
      "source": [
        "class MathOperations:\n",
        "    @classmethod\n",
        "    def add_numbers(cls, num1, num2):\n",
        "        \"\"\"\n",
        "        Adds two numbers using a class method.\n",
        "        \"\"\"\n",
        "        return num1 + num2\n",
        "\n",
        "    @staticmethod\n",
        "    def subtract_numbers(num1, num2):\n",
        "        \"\"\"\n",
        "        Subtracts two numbers using a static method.\n",
        "        \"\"\"\n",
        "        return num1 - num2\n",
        "\n",
        "# Example usage:\n",
        "# Calling the class method\n",
        "sum_result = MathOperations.add_numbers(10, 5)\n",
        "print(f\"Sum: {sum_result}\")\n",
        "\n",
        "# Calling the static method\n",
        "difference_result = MathOperations.subtract_numbers(10, 5)\n",
        "print(f\"Difference: {difference_result}\")"
      ],
      "metadata": {
        "colab": {
          "base_uri": "https://localhost:8080/"
        },
        "id": "EVo96e34wLfx",
        "outputId": "b524ac1d-ad78-435d-d157-636c32bda9a2"
      },
      "execution_count": 12,
      "outputs": [
        {
          "output_type": "stream",
          "name": "stdout",
          "text": [
            "Sum: 15\n",
            "Difference: 5\n"
          ]
        }
      ]
    },
    {
      "cell_type": "markdown",
      "source": [
        "8. Implement a class Person with a class method to count the total number of persons created.\n"
      ],
      "metadata": {
        "id": "F50gvE5ZwQ_h"
      }
    },
    {
      "cell_type": "code",
      "source": [
        "class Person:\n",
        "    _person_count = 0\n",
        "\n",
        "    def __init__(self, name, age):\n",
        "        self.name = name\n",
        "        self.age = age\n",
        "        Person._person_count += 1\n",
        "\n",
        "    @classmethod\n",
        "    def get_person_count(cls):\n",
        "        return cls._person_count\n",
        "\n",
        "# Example usage\n",
        "person1 = Person(\"Alice\", 30)\n",
        "person2 = Person(\"Bob\", 25)\n",
        "person3 = Person(\"Charlie\", 40)\n",
        "\n",
        "print(f\"Total number of persons created: {Person.get_person_count()}\")"
      ],
      "metadata": {
        "colab": {
          "base_uri": "https://localhost:8080/"
        },
        "id": "1UCYV0ihwXmp",
        "outputId": "5605a176-b6f9-432e-db8d-890ab7c67298"
      },
      "execution_count": 13,
      "outputs": [
        {
          "output_type": "stream",
          "name": "stdout",
          "text": [
            "Total number of persons created: 3\n"
          ]
        }
      ]
    },
    {
      "cell_type": "markdown",
      "source": [
        "9. Write a class Fraction with attributes numerator and denominator. Override the str method to display the fraction as \"numerator/denominator\".\n"
      ],
      "metadata": {
        "id": "dcd5vkOxwb0Z"
      }
    },
    {
      "cell_type": "code",
      "source": [
        "class Fraction:\n",
        "    def __init__(self, numerator, denominator):\n",
        "        self.numerator = numerator\n",
        "        self.denominator = denominator\n",
        "\n",
        "    def __str__(self):\n",
        "        return f\"{self.numerator}/{self.denominator}\""
      ],
      "metadata": {
        "id": "ZSazGpEcwh2h"
      },
      "execution_count": 14,
      "outputs": []
    },
    {
      "cell_type": "markdown",
      "source": [
        "10. Demonstrate operator overloading by creating a class Vector and overriding the add method to add two vectors."
      ],
      "metadata": {
        "id": "tvJLccKUwm95"
      }
    },
    {
      "cell_type": "code",
      "source": [
        "class Vector:\n",
        "    def __init__(self, x, y):\n",
        "        \"\"\"\n",
        "        Initializes a Vector object with x and y components.\n",
        "        \"\"\"\n",
        "        self.x = x\n",
        "        self.y = y\n",
        "\n",
        "    def __add__(self, other):\n",
        "        \"\"\"\n",
        "        Overrides the addition operator (+) for Vector objects.\n",
        "        Adds the corresponding components of two vectors.\n",
        "        \"\"\"\n",
        "        if isinstance(other, Vector):\n",
        "            return Vector(self.x + other.x, self.y + other.y)\n",
        "        else:\n",
        "            raise TypeError(\"Unsupported operand type for +: 'Vector' and '{}'\".format(type(other).__name__))\n",
        "\n",
        "    def __repr__(self):\n",
        "        \"\"\"\n",
        "        Provides a string representation of the Vector object for debugging.\n",
        "        \"\"\"\n",
        "        return f\"Vector({self.x}, {self.y})\"\n",
        "\n",
        "# Create instances of the Vector class\n",
        "vector1 = Vector(1, 2)\n",
        "vector2 = Vector(3, 4)\n",
        "\n",
        "# Add the vectors using the overloaded + operator\n",
        "sum_vector = vector1 + vector2\n",
        "\n",
        "# Print the result\n",
        "print(f\"Vector 1: {vector1}\")\n",
        "print(f\"Vector 2: {vector2}\")\n",
        "print(f\"Sum Vector: {sum_vector}\")\n",
        "\n",
        "# Demonstrate error handling for unsupported types\n",
        "try:\n",
        "    invalid_sum = vector1 + 5\n",
        "except TypeError as e:\n",
        "    print(f\"Error: {e}\")"
      ],
      "metadata": {
        "colab": {
          "base_uri": "https://localhost:8080/"
        },
        "id": "Isgs8I2RwqBJ",
        "outputId": "f2fcbb61-ca79-4efa-c7f7-baef45d3b5cf"
      },
      "execution_count": 15,
      "outputs": [
        {
          "output_type": "stream",
          "name": "stdout",
          "text": [
            "Vector 1: Vector(1, 2)\n",
            "Vector 2: Vector(3, 4)\n",
            "Sum Vector: Vector(4, 6)\n",
            "Error: Unsupported operand type for +: 'Vector' and 'int'\n"
          ]
        }
      ]
    },
    {
      "cell_type": "markdown",
      "source": [
        "11. Create a class Person with attributes name and age. Add a method greet() that prints \"Hello, my name is {name} and I am {age} years old.\"\n"
      ],
      "metadata": {
        "id": "WxBX4a5vw4zB"
      }
    },
    {
      "cell_type": "code",
      "source": [
        "class Person:\n",
        "    def __init__(self, name, age):\n",
        "        \"\"\"\n",
        "        Initializes a new Person object.\n",
        "\n",
        "        Args:\n",
        "            name (str): The name of the person.\n",
        "            age (int): The age of the person.\n",
        "        \"\"\"\n",
        "        self.name = name\n",
        "        self.age = age\n",
        "\n",
        "    def greet(self):\n",
        "        \"\"\"\n",
        "        Prints a greeting message including the person's name and age.\n",
        "        \"\"\"\n",
        "        print(f\"Hello, my name is {self.name} and I am {self.age} years old.\")\n",
        "\n",
        "# Example usage:\n",
        "person1 = Person(\"Alice\", 30)\n",
        "person1.greet()\n",
        "\n",
        "person2 = Person(\"Bob\", 25)\n",
        "person2.greet()"
      ],
      "metadata": {
        "colab": {
          "base_uri": "https://localhost:8080/"
        },
        "id": "dhs_qh-qw9Mo",
        "outputId": "f62ba196-b388-4f82-aab3-69c34cf30542"
      },
      "execution_count": 16,
      "outputs": [
        {
          "output_type": "stream",
          "name": "stdout",
          "text": [
            "Hello, my name is Alice and I am 30 years old.\n",
            "Hello, my name is Bob and I am 25 years old.\n"
          ]
        }
      ]
    },
    {
      "cell_type": "markdown",
      "source": [
        "12.. Implement a class Student with attributes name and grades. Create a method average_grade() to compute the average of the grades.\n"
      ],
      "metadata": {
        "id": "k8cEapZ5xAWA"
      }
    },
    {
      "cell_type": "code",
      "source": [
        "class Student:\n",
        "    def __init__(self, name, grades):\n",
        "        \"\"\"\n",
        "        Initializes a Student object.\n",
        "\n",
        "        Args:\n",
        "            name (str): The name of the student.\n",
        "            grades (list): A list of numerical grades for the student.\n",
        "        \"\"\"\n",
        "        self.name = name\n",
        "        self.grades = grades\n",
        "\n",
        "    def average_grade(self):\n",
        "        \"\"\"\n",
        "        Calculates the average of the student's grades.\n",
        "\n",
        "        Returns:\n",
        "            float: The average grade, or 0 if the student has no grades.\n",
        "        \"\"\"\n",
        "        if not self.grades:\n",
        "            return 0\n",
        "        return sum(self.grades) / len(self.grades)\n",
        "\n",
        "# Example usage\n",
        "student1 = Student(\"Alice\", [85, 90, 78, 92])\n",
        "print(f\"{student1.name}'s average grade: {student1.average_grade()}\")\n",
        "\n",
        "student2 = Student(\"Bob\", [])\n",
        "print(f\"{student2.name}'s average grade: {student2.average_grade()}\")"
      ],
      "metadata": {
        "colab": {
          "base_uri": "https://localhost:8080/"
        },
        "id": "laIxl7EdxGEZ",
        "outputId": "c2881a5f-2c89-4613-8c38-c75a8fccf5b0"
      },
      "execution_count": 17,
      "outputs": [
        {
          "output_type": "stream",
          "name": "stdout",
          "text": [
            "Alice's average grade: 86.25\n",
            "Bob's average grade: 0\n"
          ]
        }
      ]
    },
    {
      "cell_type": "markdown",
      "source": [
        "13. Create a class Rectangle with methods set_dimensions() to set the dimensions and area() to calculate the area.\n"
      ],
      "metadata": {
        "id": "9_OBhj_nxOXQ"
      }
    },
    {
      "cell_type": "code",
      "source": [
        "class Rectangle:\n",
        "    def __init__(self):\n",
        "        self.length = 0\n",
        "        self.width = 0\n",
        "\n",
        "    def set_dimensions(self, length, width):\n",
        "        self.length = length\n",
        "        self.width = width\n",
        "\n",
        "    def area(self):\n",
        "        return self.length * self.width"
      ],
      "metadata": {
        "id": "aVMrADwpxWaI"
      },
      "execution_count": 19,
      "outputs": []
    },
    {
      "cell_type": "markdown",
      "source": [
        "14.Create a class Employee with a method calculate_salary() that computes the salary based on hours worked and hourly rate. Create a derived class Manager that adds a bonus to the salary.\n"
      ],
      "metadata": {
        "id": "4BH47ZYhx9vH"
      }
    },
    {
      "cell_type": "code",
      "source": [
        "class Employee:\n",
        "    def __init__(self, hourly_rate):\n",
        "        self.hourly_rate = hourly_rate\n",
        "\n",
        "    def calculate_salary(self, hours_worked):\n",
        "        return self.hourly_rate * hours_worked\n",
        "\n",
        "class Manager(Employee):\n",
        "    def __init__(self, hourly_rate, bonus):\n",
        "        super().__init__(hourly_rate)\n",
        "        self.bonus = bonus\n",
        "\n",
        "    def calculate_salary(self, hours_worked):\n",
        "        employee_salary = super().calculate_salary(hours_worked)\n",
        "        return employee_salary + self.bonus\n",
        "\n",
        "# Example usage\n",
        "employee = Employee(hourly_rate=20)\n",
        "manager = Manager(hourly_rate=30, bonus=1000)\n",
        "\n",
        "print(f\"Employee salary: {employee.calculate_salary(40)}\")\n",
        "print(f\"Manager salary: {manager.calculate_salary(40)}\")"
      ],
      "metadata": {
        "colab": {
          "base_uri": "https://localhost:8080/"
        },
        "id": "PYPQuakPyCd-",
        "outputId": "0697518f-c1ce-4faf-ace3-9ce1cdebe1a8"
      },
      "execution_count": 20,
      "outputs": [
        {
          "output_type": "stream",
          "name": "stdout",
          "text": [
            "Employee salary: 800\n",
            "Manager salary: 2200\n"
          ]
        }
      ]
    },
    {
      "cell_type": "markdown",
      "source": [
        "15. Create a class Product with attributes name, price, and quantity. Implement a method total_price() that calculates the total price of the product.\n"
      ],
      "metadata": {
        "id": "GHyhzpowyF3m"
      }
    },
    {
      "cell_type": "code",
      "source": [
        "class Product:\n",
        "    def __init__(self, name, price, quantity):\n",
        "        \"\"\"\n",
        "        Initializes a Product object.\n",
        "\n",
        "        Args:\n",
        "            name (str): The name of the product.\n",
        "            price (float): The price of the product.\n",
        "            quantity (int): The quantity of the product.\n",
        "        \"\"\"\n",
        "        self.name = name\n",
        "        self.price = price\n",
        "        self.quantity = quantity\n",
        "\n",
        "    def total_price(self):\n",
        "        \"\"\"\n",
        "        Calculates the total price of the product.\n",
        "\n",
        "        Returns:\n",
        "            float: The total price (price * quantity).\n",
        "        \"\"\"\n",
        "        return self.price * self.quantity\n",
        "\n",
        "# Example usage:\n",
        "product = Product(\"Laptop\", 1000.00, 2)\n",
        "total = product.total_price()\n",
        "print(f\"Total price for {product.quantity} {product.name}(s): ${total}\")"
      ],
      "metadata": {
        "colab": {
          "base_uri": "https://localhost:8080/"
        },
        "id": "te9FOjC6yKDn",
        "outputId": "1b922dc0-600b-4f65-a71e-0681c1ce2ddc"
      },
      "execution_count": 21,
      "outputs": [
        {
          "output_type": "stream",
          "name": "stdout",
          "text": [
            "Total price for 2 Laptop(s): $2000.0\n"
          ]
        }
      ]
    },
    {
      "cell_type": "markdown",
      "source": [
        "16. Create a class Animal with an abstract method sound(). Create two derived classes Cow and Sheep that implement the sound() method.\n"
      ],
      "metadata": {
        "id": "odgExc9eyNGf"
      }
    },
    {
      "cell_type": "code",
      "source": [
        "from abc import ABC, abstractmethod\n",
        "\n",
        "class Animal(ABC):\n",
        "    @abstractmethod\n",
        "    def sound(self):\n",
        "        pass\n",
        "\n",
        "class Cow(Animal):\n",
        "    def sound(self):\n",
        "        return \"Moo\"\n",
        "\n",
        "class Sheep(Animal):\n",
        "    def sound(self):\n",
        "        return \"Baa\"\n",
        "\n",
        "# Example Usage\n",
        "my_cow = Cow()\n",
        "my_sheep = Sheep()\n",
        "\n",
        "print(f\"Cow says: {my_cow.sound()}\")\n",
        "print(f\"Sheep says: {my_sheep.sound()}\")"
      ],
      "metadata": {
        "colab": {
          "base_uri": "https://localhost:8080/"
        },
        "id": "wC9uBNLIyVge",
        "outputId": "82d74a9c-ed2e-473c-b673-f763cdac0e34"
      },
      "execution_count": 23,
      "outputs": [
        {
          "output_type": "stream",
          "name": "stdout",
          "text": [
            "Cow says: Moo\n",
            "Sheep says: Baa\n"
          ]
        }
      ]
    },
    {
      "cell_type": "markdown",
      "source": [
        "17. Create a class Book with attributes title, author, and year_published. Add a method get_book_info() that returns a formatted string with the book's details."
      ],
      "metadata": {
        "id": "MKt2u_brydpn"
      }
    },
    {
      "cell_type": "code",
      "source": [
        "class Book:\n",
        "    def __init__(self, title, author, year_published):\n",
        "        self.title = title\n",
        "        self.author = author\n",
        "        self.year_published = year_published\n",
        "\n",
        "    def get_book_info(self):\n",
        "        \"\"\"Returns a formatted string with the book's details.\"\"\"\n",
        "        return f\"Title: {self.title}, Author: {self.author}, Year: {self.year_published}\"\n",
        "\n",
        "# Example Usage:\n",
        "book1 = Book(\"ayuy\", \"ayu\", 2025) #\n",
        "print(book1.get_book_info())\n",
        "\n",
        "\n",
        "\n",
        "\n"
      ],
      "metadata": {
        "colab": {
          "base_uri": "https://localhost:8080/"
        },
        "id": "U21lgv7Dyik2",
        "outputId": "d32c9844-2a45-4442-913f-cdbc40f8e20b"
      },
      "execution_count": 27,
      "outputs": [
        {
          "output_type": "stream",
          "name": "stdout",
          "text": [
            "Title: ayuy, Author: ayu, Year: 2025\n"
          ]
        }
      ]
    },
    {
      "cell_type": "markdown",
      "source": [
        "18. Create a class House with attributes address and price. Create a derived class Mansion that adds an attribute number_of_rooms.\n"
      ],
      "metadata": {
        "id": "1UaDEBzyzbLp"
      }
    },
    {
      "cell_type": "code",
      "source": [
        "class House:\n",
        "    def __init__(self, address, price):\n",
        "        self.address = address\n",
        "        self.price = price\n",
        "\n",
        "class Mansion(House):\n",
        "    def __init__(self, address, price, number_of_rooms):\n",
        "        super().__init__(address, price) # Call the constructor of the base class\n",
        "        self.number_of_rooms = number_of_rooms\n",
        "\n",
        "# Example Usage\n",
        "my_house = House(\"a10,villa street\", 5000000)\n",
        "my_mansion = Mansion(\"45e villa true \", 2000000, 10)\n",
        "\n",
        "print(f\"House address: {my_house.address}, price: {my_house.price}\")\n",
        "print(f\"Mansion address: {my_mansion.address}, price: {my_mansion.price}, rooms: {my_mansion.number_of_rooms}\")"
      ],
      "metadata": {
        "colab": {
          "base_uri": "https://localhost:8080/"
        },
        "id": "OXA-GPTHzfux",
        "outputId": "f30ccfd4-56eb-4a96-f93b-682c88b2dc84"
      },
      "execution_count": 30,
      "outputs": [
        {
          "output_type": "stream",
          "name": "stdout",
          "text": [
            "House address: a10,villa street, price: 5000000\n",
            "Mansion address: 45e villa true , price: 2000000, rooms: 10\n"
          ]
        }
      ]
    }
  ]
}